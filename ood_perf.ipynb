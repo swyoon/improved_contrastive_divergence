{
 "cells": [
  {
   "cell_type": "markdown",
   "id": "8578c1f5-6b20-44bd-ab37-6dd5d39db639",
   "metadata": {},
   "source": [
    "# Reproducing OOD detection performance\n",
    "\n"
   ]
  },
  {
   "cell_type": "code",
   "execution_count": 14,
   "id": "2580ba07-b3a2-4d43-b379-5b10162850c4",
   "metadata": {},
   "outputs": [],
   "source": [
    "import torch\n",
    "\n",
    "from loader import get_dataloader\n",
    "\n",
    "from models import ResNetModel\n",
    "from utils import batch_run, roc_btw_arr"
   ]
  },
  {
   "cell_type": "code",
   "execution_count": 26,
   "id": "2404d248-3d52-448f-9ea0-5ec7c5fe9033",
   "metadata": {},
   "outputs": [
    {
     "name": "stdout",
     "output_type": "stream",
     "text": [
      "Using No Augmentations\n",
      "Using No Augmentations\n",
      "Files already downloaded and verified\n",
      "Files already downloaded and verified\n",
      "Using No Augmentations\n",
      "Using No Augmentations\n",
      "Files already downloaded and verified\n",
      "Files already downloaded and verified\n",
      "Using No Augmentations\n",
      "Using No Augmentations\n",
      "Using downloaded and verified file: datasets/test_32x32.mat\n",
      "Using No Augmentations\n",
      "Using No Augmentations\n",
      "Using No Augmentations\n",
      "Using No Augmentations\n",
      "Using No Augmentations\n",
      "Using No Augmentations\n"
     ]
    }
   ],
   "source": [
    "cifar10_val = get_dataloader({'path': 'datasets', 'dataset': 'CIFAR10_OOD', 'batch_size': 128, \n",
    "                        'split': 'evaluation', 'n_workers': 0,})\n",
    "cifar100_val = get_dataloader({'path': 'datasets', 'dataset': 'CIFAR100_OOD', 'batch_size': 128, \n",
    "                        'split': 'evaluation', 'n_workers': 0,})\n",
    "svhn_val = get_dataloader({'path': 'datasets', 'dataset': 'SVHN_OOD', 'batch_size': 128, \n",
    "                       'split': 'evaluation', 'n_workers': 0, })\n",
    "celeba_val = get_dataloader({'path': 'datasets', 'dataset': 'CelebA_OOD', 'batch_size': 128, \n",
    "                       'split': 'evaluation', 'n_workers': 0, 'size': 32})\n",
    "const_val = get_dataloader({'path': 'datasets', 'dataset': 'Constant_OOD', 'batch_size': 128, \n",
    "                       'split': 'evaluation', 'n_workers': 0, 'size': 32, 'channel': 3})\n",
    "dtd_val = get_dataloader({'path': 'datasets', 'dataset': 'dtd', 'batch_size': 128, \n",
    "                       'split': 'evaluation', 'n_workers': 0, 'size': 32, 'channel': 3})\n",
    "\n"
   ]
  },
  {
   "cell_type": "code",
   "execution_count": null,
   "id": "e6e3bf93-2d8e-43ec-907b-29d012cc772f",
   "metadata": {},
   "outputs": [],
   "source": []
  },
  {
   "cell_type": "code",
   "execution_count": 11,
   "id": "f7d85c92-3a91-4b21-b2ef-2c22d1a19028",
   "metadata": {},
   "outputs": [],
   "source": [
    "device = 'cuda:2'"
   ]
  },
  {
   "cell_type": "code",
   "execution_count": 46,
   "id": "afa053a8-d418-449b-9f30-30cafd7425bb",
   "metadata": {},
   "outputs": [],
   "source": [
    "ckpt = torch.load('cachedir/cifar10_model/model_best.pth')\n",
    "# ckpt = torch.load('cachedir/cifar10_model/model_100000.pth')\n",
    "m = ResNetModel(ckpt['FLAGS'])\n",
    "\n",
    "# m.load_state_dict(ckpt['model_state_dict_0'])\n",
    "m.load_state_dict(ckpt['ema_model_state_dict_0'])\n",
    "m.eval();\n",
    "m.to(device);"
   ]
  },
  {
   "cell_type": "code",
   "execution_count": 45,
   "id": "57fd4a5f-67bd-49fb-b157-9d57174ce23e",
   "metadata": {},
   "outputs": [
    {
     "data": {
      "text/plain": [
       "dict_keys(['optimizer_state_dict', 'FLAGS', 'best_inception', 'model_state_dict_0', 'ema_model_state_dict_0'])"
      ]
     },
     "execution_count": 45,
     "metadata": {},
     "output_type": "execute_result"
    }
   ],
   "source": [
    "ckpt.keys()"
   ]
  },
  {
   "cell_type": "code",
   "execution_count": 47,
   "id": "07a1a6fd-ba0e-4a5d-9e03-202c8fb7f411",
   "metadata": {},
   "outputs": [
    {
     "data": {
      "text/plain": [
       "6.7101645"
      ]
     },
     "execution_count": 47,
     "metadata": {},
     "output_type": "execute_result"
    }
   ],
   "source": [
    "ckpt['best_inception']"
   ]
  },
  {
   "cell_type": "code",
   "execution_count": 48,
   "id": "a1cf36a2-31b6-41f4-99c6-0883f6edb0a3",
   "metadata": {},
   "outputs": [],
   "source": [
    "cifar10_pred = batch_run(m, cifar10_val, device, method='forward', latent=None)\n",
    "\n",
    "cifar100_pred = batch_run(m, cifar100_val, device, method='forward', latent=None)\n",
    "\n",
    "celeba_pred = batch_run(m, celeba_val, device, method='forward', latent=None)\n",
    "\n",
    "svhn_pred = batch_run(m, svhn_val, device, method='forward', latent=None)\n",
    "dtd_pred = batch_run(m, dtd_val, device, method='forward', latent=None)\n",
    "const_pred = batch_run(m, const_val, device, method='forward', latent=None)"
   ]
  },
  {
   "cell_type": "code",
   "execution_count": 49,
   "id": "8e4ae862-0c7c-41c7-a710-9e2ba9cf5e07",
   "metadata": {},
   "outputs": [
    {
     "name": "stdout",
     "output_type": "stream",
     "text": [
      "svhn 0.7843152325343167\n",
      "cifar100 0.5297958166666666\n",
      "dtd 0.7275274645390072\n",
      "const 0.79999485\n",
      "celeba 0.5399386960224426\n"
     ]
    }
   ],
   "source": [
    "print('svhn', roc_btw_arr(svhn_pred, cifar10_pred))\n",
    "\n",
    "print('cifar100', roc_btw_arr(cifar100_pred, cifar10_pred))\n",
    "\n",
    "print('dtd', roc_btw_arr(dtd_pred, cifar10_pred))\n",
    "\n",
    "print('const', roc_btw_arr(const_pred, cifar10_pred))\n",
    "\n",
    "print('celeba', roc_btw_arr(celeba_pred, cifar10_pred))"
   ]
  },
  {
   "cell_type": "code",
   "execution_count": 35,
   "id": "52b2c30b-6452-4239-804a-6b2fc64e6257",
   "metadata": {},
   "outputs": [],
   "source": [
    "ckpt = torch.load('cachedir/cifar10_model_nomultiscale/model_best.pth')\n",
    "# ckpt = torch.load('cachedir/cifar10_model/model_100000.pth')\n",
    "m = ResNetModel(ckpt['FLAGS'])\n",
    "\n",
    "m.load_state_dict(ckpt['model_state_dict_0'])\n",
    "m.eval();\n",
    "m.to(device);"
   ]
  },
  {
   "cell_type": "code",
   "execution_count": 36,
   "id": "fd090d1d-d7e4-4d16-8fd0-25f1db39e058",
   "metadata": {},
   "outputs": [
    {
     "data": {
      "text/plain": [
       "5.786958"
      ]
     },
     "execution_count": 36,
     "metadata": {},
     "output_type": "execute_result"
    }
   ],
   "source": [
    "ckpt['best_inception']"
   ]
  },
  {
   "cell_type": "code",
   "execution_count": 37,
   "id": "7c2cbd5c-1bba-4a86-9c52-7ef1d69a2490",
   "metadata": {},
   "outputs": [],
   "source": [
    "cifar10_pred = batch_run(m, cifar10_val, device, method='forward', latent=None)\n",
    "\n",
    "cifar100_pred = batch_run(m, cifar100_val, device, method='forward', latent=None)\n",
    "\n",
    "celeba_pred = batch_run(m, celeba_val, device, method='forward', latent=None)\n",
    "\n",
    "svhn_pred = batch_run(m, svhn_val, device, method='forward', latent=None)\n",
    "dtd_pred = batch_run(m, dtd_val, device, method='forward', latent=None)\n",
    "const_pred = batch_run(m, const_val, device, method='forward', latent=None)"
   ]
  },
  {
   "cell_type": "code",
   "execution_count": 38,
   "id": "827cb23f-8b27-4b73-8b4f-50926917fb6e",
   "metadata": {},
   "outputs": [
    {
     "name": "stdout",
     "output_type": "stream",
     "text": [
      "svhn 0.8447866574472443\n",
      "cifar100 0.547593295\n",
      "dtd 0.7580418652482269\n",
      "const 0.8378609958333333\n",
      "celeba 0.5828336698059646\n"
     ]
    }
   ],
   "source": [
    "print('svhn', roc_btw_arr(svhn_pred, cifar10_pred))\n",
    "\n",
    "print('cifar100', roc_btw_arr(cifar100_pred, cifar10_pred))\n",
    "\n",
    "print('dtd', roc_btw_arr(dtd_pred, cifar10_pred))\n",
    "\n",
    "print('const', roc_btw_arr(const_pred, cifar10_pred))\n",
    "\n",
    "print('celeba', roc_btw_arr(celeba_pred, cifar10_pred))"
   ]
  },
  {
   "cell_type": "code",
   "execution_count": 39,
   "id": "b6f19f59-84d9-44ea-9cbb-45f4139f24a4",
   "metadata": {},
   "outputs": [],
   "source": [
    "ckpt = torch.load('cachedir/cifar10_model_noselfattn/model_best.pth')\n",
    "# ckpt = torch.load('cachedir/cifar10_model/model_100000.pth')\n",
    "m = ResNetModel(ckpt['FLAGS'])\n",
    "\n",
    "m.load_state_dict(ckpt['model_state_dict_0'])\n",
    "m.eval();\n",
    "m.to(device);"
   ]
  },
  {
   "cell_type": "code",
   "execution_count": 43,
   "id": "e05edd8e-0b82-4cd5-89e2-d5c33e8d195c",
   "metadata": {},
   "outputs": [
    {
     "data": {
      "text/plain": [
       "dict_keys(['optimizer_state_dict', 'FLAGS', 'best_inception', 'model_state_dict_0', 'ema_model_state_dict_0'])"
      ]
     },
     "execution_count": 43,
     "metadata": {},
     "output_type": "execute_result"
    }
   ],
   "source": [
    "ckpt.keys()"
   ]
  },
  {
   "cell_type": "code",
   "execution_count": 40,
   "id": "247bdb25-d7d2-4e44-a8e0-0cbab2880546",
   "metadata": {},
   "outputs": [
    {
     "data": {
      "text/plain": [
       "5.9760647"
      ]
     },
     "execution_count": 40,
     "metadata": {},
     "output_type": "execute_result"
    }
   ],
   "source": [
    "ckpt['best_inception']"
   ]
  },
  {
   "cell_type": "code",
   "execution_count": 41,
   "id": "7da4ea2a-3e36-4f56-9b7a-3d242778a8d1",
   "metadata": {},
   "outputs": [],
   "source": [
    "cifar10_pred = batch_run(m, cifar10_val, device, method='forward', latent=None)\n",
    "\n",
    "cifar100_pred = batch_run(m, cifar100_val, device, method='forward', latent=None)\n",
    "\n",
    "celeba_pred = batch_run(m, celeba_val, device, method='forward', latent=None)\n",
    "\n",
    "svhn_pred = batch_run(m, svhn_val, device, method='forward', latent=None)\n",
    "dtd_pred = batch_run(m, dtd_val, device, method='forward', latent=None)\n",
    "const_pred = batch_run(m, const_val, device, method='forward', latent=None)"
   ]
  },
  {
   "cell_type": "code",
   "execution_count": 42,
   "id": "7159102a-0035-4619-9562-010d410f30f9",
   "metadata": {},
   "outputs": [
    {
     "name": "stdout",
     "output_type": "stream",
     "text": [
      "svhn 0.8304521883323089\n",
      "cifar100 0.54332308\n",
      "dtd 0.7331943812056737\n",
      "const 0.807477675\n",
      "celeba 0.5581607838225963\n"
     ]
    }
   ],
   "source": [
    "print('svhn', roc_btw_arr(svhn_pred, cifar10_pred))\n",
    "\n",
    "print('cifar100', roc_btw_arr(cifar100_pred, cifar10_pred))\n",
    "\n",
    "print('dtd', roc_btw_arr(dtd_pred, cifar10_pred))\n",
    "\n",
    "print('const', roc_btw_arr(const_pred, cifar10_pred))\n",
    "\n",
    "print('celeba', roc_btw_arr(celeba_pred, cifar10_pred))"
   ]
  },
  {
   "cell_type": "code",
   "execution_count": null,
   "id": "908d425b-06a3-43cd-8e7b-b625f8f28330",
   "metadata": {},
   "outputs": [],
   "source": []
  }
 ],
 "metadata": {
  "kernelspec": {
   "display_name": "Python [conda env:icd]",
   "language": "python",
   "name": "conda-env-icd-py"
  },
  "language_info": {
   "codemirror_mode": {
    "name": "ipython",
    "version": 3
   },
   "file_extension": ".py",
   "mimetype": "text/x-python",
   "name": "python",
   "nbconvert_exporter": "python",
   "pygments_lexer": "ipython3",
   "version": "3.7.12"
  }
 },
 "nbformat": 4,
 "nbformat_minor": 5
}
